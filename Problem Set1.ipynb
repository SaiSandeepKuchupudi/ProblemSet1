{
 "cells": [
  {
   "cell_type": "code",
   "execution_count": 1,
   "metadata": {},
   "outputs": [
    {
     "ename": "SyntaxError",
     "evalue": "invalid syntax (<ipython-input-1-123e56f00063>, line 7)",
     "output_type": "error",
     "traceback": [
      "\u001b[1;36m  File \u001b[1;32m\"<ipython-input-1-123e56f00063>\"\u001b[1;36m, line \u001b[1;32m7\u001b[0m\n\u001b[1;33m    '5'*2 -\u001b[0m\n\u001b[1;37m            ^\u001b[0m\n\u001b[1;31mSyntaxError\u001b[0m\u001b[1;31m:\u001b[0m invalid syntax\n"
     ]
    }
   ],
   "source": [
    "What data type is each of the following?\n",
    "5 - INTEGER\n",
    "5.0 - FLOAT\n",
    "5>1 - BOOLEAN\n",
    "'5' - STRING\n",
    "5*2 - LONG\n",
    "'5'*2 - \n",
    "'5'+'2'- \n",
    "5/2 - \n",
    "5//2 - \n",
    "[5,2,1] - LIST\n",
    "5 in [1,4,6] - \n",
    "math.pi - "
   ]
  },
  {
   "cell_type": "code",
   "execution_count": null,
   "metadata": {},
   "outputs": [],
   "source": []
  }
 ],
 "metadata": {
  "kernelspec": {
   "display_name": "Python 3",
   "language": "python",
   "name": "python3"
  },
  "language_info": {
   "codemirror_mode": {
    "name": "ipython",
    "version": 3
   },
   "file_extension": ".py",
   "mimetype": "text/x-python",
   "name": "python",
   "nbconvert_exporter": "python",
   "pygments_lexer": "ipython3",
   "version": "3.7.6"
  }
 },
 "nbformat": 4,
 "nbformat_minor": 4
}
